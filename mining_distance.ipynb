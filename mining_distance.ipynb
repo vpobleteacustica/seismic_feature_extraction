{
 "cells": [
  {
   "cell_type": "code",
   "execution_count": 83,
   "id": "4c1339ed",
   "metadata": {},
   "outputs": [],
   "source": [
    "import matplotlib.pyplot as plt\n",
    "import numpy as np\n",
    "import obspy\n",
    "import numpy\n",
    "from scipy.fftpack import fft, fftshift, ifft\n",
    "from scipy.fftpack import fftfreq\n",
    "from scipy import signal\n",
    "from scipy import stats\n",
    "import sklearn.metrics as mt\n",
    "#import geopy.distance as dist\n",
    "import pandas as pd\n",
    "import os\n",
    "import re\n",
    "import time\n",
    "from obspy.core import UTCDateTime\n",
    "%matplotlib inline"
   ]
  },
  {
   "cell_type": "code",
   "execution_count": 84,
   "id": "76193ff9",
   "metadata": {},
   "outputs": [
    {
     "name": "stdout",
     "output_type": "stream",
     "text": [
      "20140108T042211\n"
     ]
    }
   ],
   "source": [
    "path = r'sacs_dataset/2014_01_08 04_22_11_M5_7/PB06/PB06_HHZ.sac'\n",
    "folder, date_mag, station, station_ch = path.split('/')\n",
    "date, mag = date_mag.split('M')\n",
    "date      = date.replace(' ', 'T').replace('_', '')\n",
    "print(date)\n",
    "\n",
    "\n",
    "\n",
    "#path_station  = \"xml/\" + 'PB06' + \"/\" + 'HHZ' + \".xml\"\n",
    "st   = obspy.read(path) \n",
    "#inv  = obspy.read_inventory(path_station)"
   ]
  },
  {
   "cell_type": "code",
   "execution_count": 85,
   "id": "f9a9b7b2",
   "metadata": {},
   "outputs": [
    {
     "name": "stdout",
     "output_type": "stream",
     "text": [
      "         network: CX\n",
      "         station: PB06\n",
      "        location: \n",
      "         channel: HHZ\n",
      "       starttime: 2014-01-08T04:22:30.998393Z\n",
      "         endtime: 2014-01-08T04:28:50.998393Z\n",
      "   sampling_rate: 100.0\n",
      "           delta: 0.01\n",
      "            npts: 38001\n",
      "           calib: 1.0\n",
      "         _format: SAC\n",
      "             sac: AttribDict({'delta': 0.0099999998, 'depmin': -695603.0, 'depmax': 631695.0, 'scale': 1.0, 'b': 0.00039299999, 'e': 380.0004, 'evla': -20.760799, 'evlo': -70.620499, 'evdp': 28.299999, 'mag': 5.6999998, 'user0': 242.9671, 'user1': 0.0, 'dist': 241.14009, 'depmen': 405.81686, 'nzyear': 2014, 'nzjday': 8, 'nzhour': 4, 'nzmin': 22, 'nzsec': 30, 'nzmsec': 998, 'nvhdr': 6, 'npts': 38001, 'iftype': 1, 'iztype': 9, 'leven': 1, 'lpspol': 1, 'lovrok': 1, 'lcalda': 0, 'kstnm': 'PB06', 'kuser0': 'MW', 'kcmpnm': 'HHZ', 'knetwk': 'CX'})\n"
     ]
    }
   ],
   "source": [
    "print(st[0].stats)"
   ]
  },
  {
   "cell_type": "code",
   "execution_count": 100,
   "id": "253e2039",
   "metadata": {},
   "outputs": [],
   "source": [
    "#path = r'sacs_dataset/2014_01_08 04_22_11_M5_7/GO01/GO01_BHE.sac'\n",
    "path = r'sacs_dataset/2014_01_15 11_03_25_M2_6/GO03/GO03_BHN.sac'\n",
    "path_station  = \"xml/\" + 'MT16' + \"/\" + 'HHN' + \".xml\"\n",
    "st   = obspy.read(path) \n",
    "inv  = obspy.read_inventory(path_station)"
   ]
  },
  {
   "cell_type": "code",
   "execution_count": 101,
   "id": "7a686ecc",
   "metadata": {},
   "outputs": [
    {
     "name": "stdout",
     "output_type": "stream",
     "text": [
      "         network: C\n",
      "         station: GO03\n",
      "        location: \n",
      "         channel: BHN\n",
      "       starttime: 2014-01-15T11:04:25.000000Z\n",
      "         endtime: 2014-01-15T11:12:05.000000Z\n",
      "   sampling_rate: 40.0\n",
      "           delta: 0.025\n",
      "            npts: 18401\n",
      "           calib: 1.0\n",
      "         _format: SAC\n",
      "             sac: AttribDict({'delta': 0.025, 'depmin': 59.0, 'depmax': 741.0, 'scale': 1.0, 'b': 0.0, 'e': 460.0, 'depmen': 419.12738, 'nzyear': 2014, 'nzjday': 15, 'nzhour': 11, 'nzmin': 4, 'nzsec': 25, 'nzmsec': 0, 'nvhdr': 6, 'npts': 18401, 'iftype': 1, 'iztype': 9, 'leven': 1, 'lpspol': 1, 'lovrok': 1, 'lcalda': 0, 'kstnm': 'GO03', 'kcmpnm': 'BHN', 'knetwk': 'C'})\n"
     ]
    }
   ],
   "source": [
    "print(st[0].stats)"
   ]
  },
  {
   "cell_type": "code",
   "execution_count": 93,
   "metadata": {},
   "outputs": [
    {
     "name": "stdout",
     "output_type": "stream",
     "text": [
      "Channel 'HHZ', Location '' \n",
      "\tTime range: 2017-12-05T00:00:00.000000Z - --\n",
      "\tLatitude: -33.43, Longitude: -70.52, Elevation: 780.0 m, Local Depth: 100.0 m\n",
      "\tAzimuth: 0.00 degrees from north, clockwise\n",
      "\tDip: -90.00 degrees down from horizontal\n",
      "\tChannel types: CONTINUOUS, GEOPHYSICAL\n",
      "\tSampling Rate: 100.00 Hz\n",
      "\tSensor (Description): None (STS-5A, 120s, 1500 V/m/s-Q330S+, gain 1, 100 sps,)\n",
      "\tResponse information available\n"
     ]
    }
   ],
   "source": [
    "print(inv[0].stations[0].channels[0])\n",
    "#print(inv[0].stations[0].channels[0].response.response_stages[1].__dict__)\n",
    "#print(inv[0].stations[0].channels[0].response.response_stages[2].__dict__)"
   ]
  },
  {
   "cell_type": "code",
   "execution_count": 89,
   "metadata": {},
   "outputs": [
    {
     "name": "stdout",
     "output_type": "stream",
     "text": [
      "629145000.0\n"
     ]
    }
   ],
   "source": [
    "print(inv.networks[0][0][0].response.instrument_sensitivity.value)"
   ]
  },
  {
   "cell_type": "code",
   "execution_count": 90,
   "id": "3af28853",
   "metadata": {},
   "outputs": [
    {
     "ename": "SyntaxError",
     "evalue": "invalid syntax (<ipython-input-90-56d18eb86e01>, line 1)",
     "output_type": "error",
     "traceback": [
      "\u001b[0;36m  File \u001b[0;32m\"<ipython-input-90-56d18eb86e01>\"\u001b[0;36m, line \u001b[0;32m1\u001b[0m\n\u001b[0;31m    print(inv[0].stations[0].latitude)a\u001b[0m\n\u001b[0m                                      ^\u001b[0m\n\u001b[0;31mSyntaxError\u001b[0m\u001b[0;31m:\u001b[0m invalid syntax\n"
     ]
    }
   ],
   "source": [
    "print(inv[0].stations[0].latitude)a"
   ]
  },
  {
   "cell_type": "code",
   "execution_count": null,
   "id": "27c3739c",
   "metadata": {},
   "outputs": [
    {
     "name": "stdout",
     "output_type": "stream",
     "text": [
      "-69.1942\n"
     ]
    }
   ],
   "source": [
    "print(inv[0].stations[0].longitude)"
   ]
  },
  {
   "cell_type": "code",
   "execution_count": null,
   "id": "5aff8046",
   "metadata": {},
   "outputs": [
    {
     "name": "stdout",
     "output_type": "stream",
     "text": [
      "2014-01-08T04:22:11.000000Z\n"
     ]
    }
   ],
   "source": [
    "ev_time = UTCDateTime('20140108T042211')\n",
    "print(ev_time)"
   ]
  },
  {
   "cell_type": "code",
   "execution_count": null,
   "id": "b9a6aae8",
   "metadata": {},
   "outputs": [],
   "source": [
    "st_time = st[0].stats.starttime"
   ]
  },
  {
   "cell_type": "code",
   "execution_count": null,
   "id": "f60ac25d",
   "metadata": {},
   "outputs": [
    {
     "name": "stdout",
     "output_type": "stream",
     "text": [
      "0.0\n"
     ]
    }
   ],
   "source": [
    "delta_time = st_time - ev_time\n",
    "print(delta_time)"
   ]
  },
  {
   "cell_type": "code",
   "execution_count": null,
   "id": "ab8ccd1b",
   "metadata": {},
   "outputs": [
    {
     "ename": "AttributeError",
     "evalue": "evlo",
     "output_type": "error",
     "traceback": [
      "\u001b[0;31m---------------------------------------------------------------------------\u001b[0m",
      "\u001b[0;31mKeyError\u001b[0m                                  Traceback (most recent call last)",
      "\u001b[0;32m~/miniconda3/envs/lstm/lib/python3.7/site-packages/obspy/core/util/attribdict.py\u001b[0m in \u001b[0;36m__getattr__\u001b[0;34m(self, name, default)\u001b[0m\n\u001b[1;32m    127\u001b[0m         \u001b[0;32mtry\u001b[0m\u001b[0;34m:\u001b[0m\u001b[0;34m\u001b[0m\u001b[0;34m\u001b[0m\u001b[0m\n\u001b[0;32m--> 128\u001b[0;31m             \u001b[0;32mreturn\u001b[0m \u001b[0mself\u001b[0m\u001b[0;34m.\u001b[0m\u001b[0m__getitem__\u001b[0m\u001b[0;34m(\u001b[0m\u001b[0mname\u001b[0m\u001b[0;34m,\u001b[0m \u001b[0mdefault\u001b[0m\u001b[0;34m)\u001b[0m\u001b[0;34m\u001b[0m\u001b[0;34m\u001b[0m\u001b[0m\n\u001b[0m\u001b[1;32m    129\u001b[0m         \u001b[0;32mexcept\u001b[0m \u001b[0mKeyError\u001b[0m \u001b[0;32mas\u001b[0m \u001b[0me\u001b[0m\u001b[0;34m:\u001b[0m\u001b[0;34m\u001b[0m\u001b[0;34m\u001b[0m\u001b[0m\n",
      "\u001b[0;32m~/miniconda3/envs/lstm/lib/python3.7/site-packages/obspy/core/util/attribdict.py\u001b[0m in \u001b[0;36m__getitem__\u001b[0;34m(self, name, default)\u001b[0m\n\u001b[1;32m     73\u001b[0m         \u001b[0;32mtry\u001b[0m\u001b[0;34m:\u001b[0m\u001b[0;34m\u001b[0m\u001b[0;34m\u001b[0m\u001b[0m\n\u001b[0;32m---> 74\u001b[0;31m             \u001b[0;32mreturn\u001b[0m \u001b[0mself\u001b[0m\u001b[0;34m.\u001b[0m\u001b[0m__dict__\u001b[0m\u001b[0;34m[\u001b[0m\u001b[0mname\u001b[0m\u001b[0;34m]\u001b[0m\u001b[0;34m\u001b[0m\u001b[0;34m\u001b[0m\u001b[0m\n\u001b[0m\u001b[1;32m     75\u001b[0m         \u001b[0;32mexcept\u001b[0m \u001b[0mKeyError\u001b[0m\u001b[0;34m:\u001b[0m\u001b[0;34m\u001b[0m\u001b[0;34m\u001b[0m\u001b[0m\n",
      "\u001b[0;31mKeyError\u001b[0m: 'evlo'",
      "\nDuring handling of the above exception, another exception occurred:\n",
      "\u001b[0;31mAttributeError\u001b[0m                            Traceback (most recent call last)",
      "\u001b[0;32m<ipython-input-12-afc65b9f930a>\u001b[0m in \u001b[0;36m<module>\u001b[0;34m\u001b[0m\n\u001b[0;32m----> 1\u001b[0;31m \u001b[0mev_long\u001b[0m \u001b[0;34m=\u001b[0m \u001b[0mst\u001b[0m\u001b[0;34m[\u001b[0m\u001b[0;36m0\u001b[0m\u001b[0;34m]\u001b[0m\u001b[0;34m.\u001b[0m\u001b[0mstats\u001b[0m\u001b[0;34m.\u001b[0m\u001b[0msac\u001b[0m\u001b[0;34m.\u001b[0m\u001b[0mevlo\u001b[0m\u001b[0;34m\u001b[0m\u001b[0;34m\u001b[0m\u001b[0m\n\u001b[0m\u001b[1;32m      2\u001b[0m \u001b[0mprint\u001b[0m\u001b[0;34m(\u001b[0m\u001b[0mev_long\u001b[0m\u001b[0;34m)\u001b[0m\u001b[0;34m\u001b[0m\u001b[0;34m\u001b[0m\u001b[0m\n",
      "\u001b[0;32m~/miniconda3/envs/lstm/lib/python3.7/site-packages/obspy/core/util/attribdict.py\u001b[0m in \u001b[0;36m__getattr__\u001b[0;34m(self, name, default)\u001b[0m\n\u001b[1;32m    128\u001b[0m             \u001b[0;32mreturn\u001b[0m \u001b[0mself\u001b[0m\u001b[0;34m.\u001b[0m\u001b[0m__getitem__\u001b[0m\u001b[0;34m(\u001b[0m\u001b[0mname\u001b[0m\u001b[0;34m,\u001b[0m \u001b[0mdefault\u001b[0m\u001b[0;34m)\u001b[0m\u001b[0;34m\u001b[0m\u001b[0;34m\u001b[0m\u001b[0m\n\u001b[1;32m    129\u001b[0m         \u001b[0;32mexcept\u001b[0m \u001b[0mKeyError\u001b[0m \u001b[0;32mas\u001b[0m \u001b[0me\u001b[0m\u001b[0;34m:\u001b[0m\u001b[0;34m\u001b[0m\u001b[0;34m\u001b[0m\u001b[0m\n\u001b[0;32m--> 130\u001b[0;31m             \u001b[0;32mraise\u001b[0m \u001b[0mAttributeError\u001b[0m\u001b[0;34m(\u001b[0m\u001b[0me\u001b[0m\u001b[0;34m.\u001b[0m\u001b[0margs\u001b[0m\u001b[0;34m[\u001b[0m\u001b[0;36m0\u001b[0m\u001b[0;34m]\u001b[0m\u001b[0;34m)\u001b[0m\u001b[0;34m\u001b[0m\u001b[0;34m\u001b[0m\u001b[0m\n\u001b[0m\u001b[1;32m    131\u001b[0m \u001b[0;34m\u001b[0m\u001b[0m\n\u001b[1;32m    132\u001b[0m     \u001b[0m__setattr__\u001b[0m \u001b[0;34m=\u001b[0m \u001b[0m__setitem__\u001b[0m\u001b[0;34m\u001b[0m\u001b[0;34m\u001b[0m\u001b[0m\n",
      "\u001b[0;31mAttributeError\u001b[0m: evlo"
     ]
    }
   ],
   "source": [
    "ev_long = st[0].stats.sac.evlo\n",
    "print(ev_long)"
   ]
  },
  {
   "cell_type": "code",
   "execution_count": null,
   "id": "d17b4d30",
   "metadata": {},
   "outputs": [
    {
     "name": "stdout",
     "output_type": "stream",
     "text": [
      "-20.7608\n"
     ]
    }
   ],
   "source": [
    "ev_lat = st[0].stats.sac.evla\n",
    "print(ev_lat)"
   ]
  },
  {
   "cell_type": "code",
   "execution_count": null,
   "id": "3cb1807a",
   "metadata": {},
   "outputs": [],
   "source": []
  },
  {
   "cell_type": "code",
   "execution_count": null,
   "id": "013a4d57",
   "metadata": {},
   "outputs": [],
   "source": []
  },
  {
   "cell_type": "code",
   "execution_count": null,
   "id": "48b3c951",
   "metadata": {},
   "outputs": [],
   "source": []
  },
  {
   "cell_type": "code",
   "execution_count": null,
   "id": "115aea7d",
   "metadata": {},
   "outputs": [],
   "source": []
  },
  {
   "cell_type": "code",
   "execution_count": null,
   "id": "b9600f2d",
   "metadata": {},
   "outputs": [],
   "source": []
  },
  {
   "cell_type": "code",
   "execution_count": null,
   "id": "706f92e2",
   "metadata": {},
   "outputs": [],
   "source": []
  },
  {
   "cell_type": "code",
   "execution_count": null,
   "id": "354bb9ec",
   "metadata": {},
   "outputs": [],
   "source": []
  },
  {
   "cell_type": "code",
   "execution_count": null,
   "id": "b87132ef",
   "metadata": {},
   "outputs": [],
   "source": []
  },
  {
   "cell_type": "code",
   "execution_count": null,
   "id": "902aa411",
   "metadata": {},
   "outputs": [],
   "source": []
  },
  {
   "cell_type": "code",
   "execution_count": null,
   "id": "4dedd358",
   "metadata": {},
   "outputs": [],
   "source": []
  }
 ],
 "metadata": {
  "interpreter": {
   "hash": "b78ebb0bb2f0ecfd4e3b49b8970fd2f32e07b02d82435e8d5f13a4c58af3f0db"
  },
  "kernelspec": {
   "display_name": "Python 3.7.4 64-bit (conda)",
   "name": "python3"
  },
  "language_info": {
   "codemirror_mode": {
    "name": "ipython",
    "version": 3
   },
   "file_extension": ".py",
   "mimetype": "text/x-python",
   "name": "python",
   "nbconvert_exporter": "python",
   "pygments_lexer": "ipython3",
   "version": "3.7.4"
  }
 },
 "nbformat": 4,
 "nbformat_minor": 5
}
